{
 "cells": [
  {
   "cell_type": "code",
   "execution_count": 7,
   "metadata": {},
   "outputs": [
    {
     "name": "stdout",
     "output_type": "stream",
     "text": [
      "Image\n"
     ]
    },
    {
     "data": {
      "image/png": "[encoded data removed]",
      "text/plain": [
       "<Figure size 432x288 with 1 Axes>"
      ]
     },
     "metadata": {
      "needs_background": "light"
     },
     "output_type": "display_data"
    },
    {
     "name": "stdout",
     "output_type": "stream",
     "text": [
      "Image after hit miss transform\n"
     ]
    },
    {
     "data": {
      "image/png": "[encoded data removed]",
      "text/plain": [
       "<Figure size 432x288 with 1 Axes>"
      ]
     },
     "metadata": {
      "needs_background": "light"
     },
     "output_type": "display_data"
    }
   ],
   "source": [
    "# importing required libraries\n",
    "import mahotas as mh\n",
    "import numpy as np\n",
    "import matplotlib.pyplot as plt\n",
    "    \n",
    "# creating region\n",
    "# numpy.ndarray\n",
    "regions = np.zeros((20, 20), bool)\n",
    "    \n",
    "# setting 1 value to the region\n",
    "regions[1, :2] = 1\n",
    "regions[5:8, 6: 8] = 1\n",
    "regions[8, 0] = 1\n",
    "regions[10:15, 4:7] = 1\n",
    "\n",
    "regions[18:20, 0:5] = 1\n",
    "regions[14:19, 11:17] = 1\n",
    "\n",
    "      \n",
    "# showing the image with interpolation = 'nearest'\n",
    "print(\"Image\")\n",
    "plt.imshow(regions, interpolation ='nearest')\n",
    "plt.show()\n",
    "   \n",
    "# template for hit miss\n",
    "template = np.array([\n",
    "            [0, 1, 1],\n",
    "            [0, 1, 1],\n",
    "            [0, 1, 1]])\n",
    "   \n",
    "# hit miss transform\n",
    "img = mh.hitmiss(regions, template)\n",
    "  \n",
    "# showing image\n",
    "print(\"Image after hit miss transform\")\n",
    "plt.imshow(img)\n",
    "plt.show()"
   ]
  },
  {
   "cell_type": "code",
   "execution_count": 18,
   "metadata": {},
   "outputs": [],
   "source": [
    "# ImageFilter for using filter() function\n",
    "from PIL import Image, ImageFilter\n",
    "  \n",
    "# Opening the image \n",
    "# (R prefixed to string in order to deal with '\\' in paths)\n",
    "image = Image.open(r\"cameraman.png\")\n",
    "  \n",
    "# Blurring image by sending the ImageFilter.\n",
    "# GaussianBlur predefined kernel argument\n",
    "image = image.filter(ImageFilter.GaussianBlur)\n",
    "  \n",
    "# Displaying the image\n",
    "image.save(\"output.png\")"
   ]
  },
  {
   "cell_type": "code",
   "execution_count": null,
   "metadata": {},
   "outputs": [],
   "source": []
  },
  {
   "cell_type": "code",
   "execution_count": null,
   "metadata": {},
   "outputs": [],
   "source": []
  }
 ],
 "metadata": {
  "kernelspec": {
   "display_name": "Python 3",
   "language": "python",
   "name": "python3"
  },
  "language_info": {
   "codemirror_mode": {
    "name": "ipython",
    "version": 3
   },
   "file_extension": ".py",
   "mimetype": "text/x-python",
   "name": "python",
   "nbconvert_exporter": "python",
   "pygments_lexer": "ipython3",
   "version": "3.8.5"
  }
 },
 "nbformat": 4,
 "nbformat_minor": 4
}
